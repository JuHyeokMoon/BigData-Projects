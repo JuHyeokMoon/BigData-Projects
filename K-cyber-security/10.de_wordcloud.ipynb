{
 "cells": [
  {
   "cell_type": "code",
   "execution_count": 8,
   "metadata": {
    "executionInfo": {
     "elapsed": 1546,
     "status": "ok",
     "timestamp": 1604046534604,
     "user": {
      "displayName": "주혁",
      "photoUrl": "https://lh3.googleusercontent.com/-W5vvr1jhZfM/AAAAAAAAAAI/AAAAAAAAFPc/a6PcOi7gmY4/s64/photo.jpg",
      "userId": "14940108871655369312"
     },
     "user_tz": -540
    },
    "id": "INO0e56XBPl9"
   },
   "outputs": [],
   "source": [
    "import pandas as pd\n",
    "from pandas import DataFrame  as df\n",
    "import numpy as np\n",
    "from collections import Counter\n",
    "%matplotlib inline\n",
    "import matplotlib.pyplot as plt\n",
    "import re \n",
    "import nltk"
   ]
  },
  {
   "cell_type": "code",
   "execution_count": 2,
   "metadata": {
    "id": "dPcAd2FsHzTM"
   },
   "outputs": [],
   "source": [
    "main_df = pd.read_csv('main_df (2).csv',encoding='utf8')"
   ]
  },
  {
   "cell_type": "markdown",
   "metadata": {},
   "source": [
    "# 독일어 문서 추출(only_en)"
   ]
  },
  {
   "cell_type": "code",
   "execution_count": 1,
   "metadata": {
    "executionInfo": {
     "elapsed": 662,
     "status": "ok",
     "timestamp": 1604047348328,
     "user": {
      "displayName": "주혁",
      "photoUrl": "https://lh3.googleusercontent.com/-W5vvr1jhZfM/AAAAAAAAAAI/AAAAAAAAFPc/a6PcOi7gmY4/s64/photo.jpg",
      "userId": "14940108871655369312"
     },
     "user_tz": -540
    },
    "id": "T5_ILUY2kRO1"
   },
   "outputs": [
    {
     "ename": "NameError",
     "evalue": "name 'main_df' is not defined",
     "output_type": "error",
     "traceback": [
      "\u001b[1;31m---------------------------------------------------------------------------\u001b[0m",
      "\u001b[1;31mNameError\u001b[0m                                 Traceback (most recent call last)",
      "\u001b[1;32m<ipython-input-1-ed8ae9341e92>\u001b[0m in \u001b[0;36m<module>\u001b[1;34m\u001b[0m\n\u001b[1;32m----> 1\u001b[1;33m \u001b[0monly_de\u001b[0m \u001b[1;33m=\u001b[0m  \u001b[0mmain_df\u001b[0m\u001b[1;33m[\u001b[0m\u001b[0mmain_df\u001b[0m\u001b[1;33m[\u001b[0m\u001b[1;34m'main_language'\u001b[0m\u001b[1;33m]\u001b[0m\u001b[1;33m==\u001b[0m\u001b[1;34m'de'\u001b[0m\u001b[1;33m]\u001b[0m\u001b[1;33m\u001b[0m\u001b[1;33m\u001b[0m\u001b[0m\n\u001b[0m\u001b[0;32m      2\u001b[0m \u001b[0monly_de\u001b[0m\u001b[1;33m.\u001b[0m\u001b[0mindex\u001b[0m \u001b[1;33m=\u001b[0m \u001b[0mrange\u001b[0m\u001b[1;33m(\u001b[0m\u001b[0mlen\u001b[0m\u001b[1;33m(\u001b[0m\u001b[0monly_de\u001b[0m\u001b[1;33m)\u001b[0m\u001b[1;33m)\u001b[0m\u001b[1;33m\u001b[0m\u001b[1;33m\u001b[0m\u001b[0m\n\u001b[0;32m      3\u001b[0m \u001b[0monly_de\u001b[0m\u001b[1;33m.\u001b[0m\u001b[0mhead\u001b[0m\u001b[1;33m(\u001b[0m\u001b[1;33m)\u001b[0m\u001b[1;33m\u001b[0m\u001b[1;33m\u001b[0m\u001b[0m\n",
      "\u001b[1;31mNameError\u001b[0m: name 'main_df' is not defined"
     ]
    }
   ],
   "source": [
    "only_de =  main_df[main_df['main_language']=='de']\n",
    "only_de.index = range(len(only_de))\n",
    "only_de.head()"
   ]
  },
  {
   "cell_type": "markdown",
   "metadata": {},
   "source": [
    "# 본문의 독일어 데이터 전처리(독일어 추출, 3자리 이하 단어 제거)"
   ]
  },
  {
   "cell_type": "code",
   "execution_count": 2,
   "metadata": {
    "id": "YzTKWAQWdHpC",
    "outputId": "6b9cfaf4-f1ac-48b8-95fb-712e02aac3bd"
   },
   "outputs": [
    {
     "ename": "NameError",
     "evalue": "name 'only_de' is not defined",
     "output_type": "error",
     "traceback": [
      "\u001b[1;31m---------------------------------------------------------------------------\u001b[0m",
      "\u001b[1;31mNameError\u001b[0m                                 Traceback (most recent call last)",
      "\u001b[1;32m<ipython-input-2-a871d5636a82>\u001b[0m in \u001b[0;36m<module>\u001b[1;34m\u001b[0m\n\u001b[1;32m----> 1\u001b[1;33m \u001b[0monly_de\u001b[0m\u001b[1;33m[\u001b[0m\u001b[1;34m'text_without_tag'\u001b[0m\u001b[1;33m]\u001b[0m \u001b[1;33m=\u001b[0m \u001b[0monly_de\u001b[0m\u001b[1;33m[\u001b[0m\u001b[1;34m'text_without_tag'\u001b[0m\u001b[1;33m]\u001b[0m\u001b[1;33m.\u001b[0m\u001b[0mapply\u001b[0m\u001b[1;33m(\u001b[0m\u001b[1;32mlambda\u001b[0m \u001b[0mx\u001b[0m\u001b[1;33m:\u001b[0m \u001b[0mx\u001b[0m\u001b[1;33m.\u001b[0m\u001b[0mlower\u001b[0m\u001b[1;33m(\u001b[0m\u001b[1;33m)\u001b[0m\u001b[1;33m)\u001b[0m\u001b[1;33m\u001b[0m\u001b[1;33m\u001b[0m\u001b[0m\n\u001b[0m\u001b[0;32m      2\u001b[0m \u001b[1;33m\u001b[0m\u001b[0m\n\u001b[0;32m      3\u001b[0m \u001b[0mcount\u001b[0m \u001b[1;33m=\u001b[0m \u001b[1;36m0\u001b[0m\u001b[1;33m\u001b[0m\u001b[1;33m\u001b[0m\u001b[0m\n\u001b[0;32m      4\u001b[0m \u001b[0mre_content\u001b[0m \u001b[1;33m=\u001b[0m \u001b[1;33m[\u001b[0m\u001b[1;33m]\u001b[0m\u001b[1;33m\u001b[0m\u001b[1;33m\u001b[0m\u001b[0m\n\u001b[0;32m      5\u001b[0m \u001b[1;32mfor\u001b[0m \u001b[0mcontent\u001b[0m \u001b[1;32min\u001b[0m \u001b[0monly_de\u001b[0m\u001b[1;33m[\u001b[0m\u001b[1;34m'text_without_tag'\u001b[0m\u001b[1;33m]\u001b[0m\u001b[1;33m:\u001b[0m\u001b[1;33m\u001b[0m\u001b[1;33m\u001b[0m\u001b[0m\n",
      "\u001b[1;31mNameError\u001b[0m: name 'only_de' is not defined"
     ]
    }
   ],
   "source": [
    "only_de['text_without_tag'] = only_de['text_without_tag'].apply(lambda x: x.lower())\n",
    "\n",
    "count = 0\n",
    "re_content = []\n",
    "for content in only_de['text_without_tag']:\n",
    "    print(count)\n",
    "    count += 1\n",
    "    content = re.sub(\"[^a-zA-Z]\", \" \",content)  # 독일어는 영어로 분류됨\n",
    "    re_content_v = \" \".join([w for w in content.split() if len(w) > 3]) # 3자리 이하인 영어 단어 제외\n",
    "    print(re_content_v)\n",
    "    re_content.append(re_content_v)\n",
    "print(re_content)"
   ]
  },
  {
   "cell_type": "markdown",
   "metadata": {},
   "source": [
    "# 본문의 영어 데이터(re_content 칼럼 생성)"
   ]
  },
  {
   "cell_type": "code",
   "execution_count": 3,
   "metadata": {},
   "outputs": [
    {
     "ename": "NameError",
     "evalue": "name 're_content' is not defined",
     "output_type": "error",
     "traceback": [
      "\u001b[1;31m---------------------------------------------------------------------------\u001b[0m",
      "\u001b[1;31mNameError\u001b[0m                                 Traceback (most recent call last)",
      "\u001b[1;32m<ipython-input-3-71f8cf55a2ca>\u001b[0m in \u001b[0;36m<module>\u001b[1;34m\u001b[0m\n\u001b[1;32m----> 1\u001b[1;33m \u001b[0monly_de\u001b[0m\u001b[1;33m[\u001b[0m\u001b[1;34m're_content'\u001b[0m\u001b[1;33m]\u001b[0m \u001b[1;33m=\u001b[0m \u001b[0mre_content\u001b[0m\u001b[1;33m\u001b[0m\u001b[1;33m\u001b[0m\u001b[0m\n\u001b[0m\u001b[0;32m      2\u001b[0m \u001b[0monly_de\u001b[0m\u001b[1;33m\u001b[0m\u001b[1;33m\u001b[0m\u001b[0m\n",
      "\u001b[1;31mNameError\u001b[0m: name 're_content' is not defined"
     ]
    }
   ],
   "source": [
    "only_de['re_content'] = re_content\n",
    "only_de"
   ]
  },
  {
   "cell_type": "markdown",
   "metadata": {},
   "source": [
    "# 본문의 명사 추출(NLTK 이용)"
   ]
  },
  {
   "cell_type": "code",
   "execution_count": 4,
   "metadata": {
    "colab": {
     "base_uri": "https://localhost:8080/",
     "height": 163
    },
    "executionInfo": {
     "elapsed": 385928,
     "status": "ok",
     "timestamp": 1603868330964,
     "user": {
      "displayName": "주혁",
      "photoUrl": "https://lh3.googleusercontent.com/-W5vvr1jhZfM/AAAAAAAAAAI/AAAAAAAAFPc/a6PcOi7gmY4/s64/photo.jpg",
      "userId": "14940108871655369312"
     },
     "user_tz": -540
    },
    "id": "AtolwE7K7y8E",
    "outputId": "75c6dd01-601e-4a96-b2a2-2b5331e8a1e5"
   },
   "outputs": [
    {
     "ename": "NameError",
     "evalue": "name 're_content' is not defined",
     "output_type": "error",
     "traceback": [
      "\u001b[1;31m---------------------------------------------------------------------------\u001b[0m",
      "\u001b[1;31mNameError\u001b[0m                                 Traceback (most recent call last)",
      "\u001b[1;32m<ipython-input-4-0b87042a8d54>\u001b[0m in \u001b[0;36m<module>\u001b[1;34m\u001b[0m\n\u001b[0;32m      1\u001b[0m \u001b[0mvocab_list\u001b[0m \u001b[1;33m=\u001b[0m \u001b[1;33m[\u001b[0m\u001b[1;33m]\u001b[0m\u001b[1;33m\u001b[0m\u001b[1;33m\u001b[0m\u001b[0m\n\u001b[0;32m      2\u001b[0m \u001b[0mcount\u001b[0m \u001b[1;33m=\u001b[0m \u001b[1;36m0\u001b[0m\u001b[1;33m\u001b[0m\u001b[1;33m\u001b[0m\u001b[0m\n\u001b[1;32m----> 3\u001b[1;33m \u001b[1;32mfor\u001b[0m \u001b[0mcontent\u001b[0m \u001b[1;32min\u001b[0m \u001b[0mre_content\u001b[0m\u001b[1;33m:\u001b[0m\u001b[1;33m\u001b[0m\u001b[1;33m\u001b[0m\u001b[0m\n\u001b[0m\u001b[0;32m      4\u001b[0m     \u001b[0mcount\u001b[0m \u001b[1;33m+=\u001b[0m \u001b[1;36m1\u001b[0m\u001b[1;33m\u001b[0m\u001b[1;33m\u001b[0m\u001b[0m\n\u001b[0;32m      5\u001b[0m     \u001b[0mdoc_value\u001b[0m \u001b[1;33m=\u001b[0m \u001b[1;34m''\u001b[0m\u001b[1;33m\u001b[0m\u001b[1;33m\u001b[0m\u001b[0m\n",
      "\u001b[1;31mNameError\u001b[0m: name 're_content' is not defined"
     ]
    }
   ],
   "source": [
    "vocab_list = []\n",
    "count = 0\n",
    "for content in re_content:\n",
    "    count += 1\n",
    "    doc_value = ''\n",
    "    if content is np.nan: pass\n",
    "    else:\n",
    "        for word in nltk.tag.pos_tag(nltk.tokenize.word_tokenize(content)):\n",
    "            if word[1] in ['NN', 'NNS']: #명사\n",
    "                doc_value += word[0] + ' '\n",
    "    print(doc_value)\n",
    "    vocab_list.append(doc_value)\n",
    "print(vocab_list)"
   ]
  },
  {
   "cell_type": "markdown",
   "metadata": {},
   "source": [
    "# 본문의 명사 리스트 (re_content_word 칼럼 생성)"
   ]
  },
  {
   "cell_type": "code",
   "execution_count": null,
   "metadata": {
    "colab": {
     "base_uri": "https://localhost:8080/",
     "height": 235
    },
    "executionInfo": {
     "elapsed": 1023,
     "status": "ok",
     "timestamp": 1603864607218,
     "user": {
      "displayName": "주혁",
      "photoUrl": "https://lh3.googleusercontent.com/-W5vvr1jhZfM/AAAAAAAAAAI/AAAAAAAAFPc/a6PcOi7gmY4/s64/photo.jpg",
      "userId": "14940108871655369312"
     },
     "user_tz": -540
    },
    "id": "Ati5gPl-_mVI",
    "outputId": "691bf7de-3a0b-469d-8ad8-ef9c1b42a490"
   },
   "outputs": [],
   "source": [
    "only_de['re_content_word'] = vocab_list \n",
    "only_de"
   ]
  },
  {
   "cell_type": "markdown",
   "metadata": {},
   "source": [
    "# ★Word-Counting★"
   ]
  },
  {
   "cell_type": "markdown",
   "metadata": {},
   "source": [
    "# 본문 명사 리스트 (오름차순 정리)"
   ]
  },
  {
   "cell_type": "code",
   "execution_count": null,
   "metadata": {
    "id": "aVQa7_rG_zQY",
    "outputId": "82fe4c27-b2a3-453e-824a-0462878b2bd5"
   },
   "outputs": [],
   "source": [
    "de_data = [j for i in only_de[only_de['re_content_word'] for j in str(i).split()]\n",
    "\n",
    "print(de_data)"
   ]
  },
  {
   "cell_type": "code",
   "execution_count": null,
   "metadata": {
    "colab": {
     "base_uri": "https://localhost:8080/",
     "height": 55
    },
    "executionInfo": {
     "elapsed": 5036,
     "status": "ok",
     "timestamp": 1603868413940,
     "user": {
      "displayName": "주혁",
      "photoUrl": "https://lh3.googleusercontent.com/-W5vvr1jhZfM/AAAAAAAAAAI/AAAAAAAAFPc/a6PcOi7gmY4/s64/photo.jpg",
      "userId": "14940108871655369312"
     },
     "user_tz": -540
    },
    "id": "gexkGrhcSX5d",
    "outputId": "0a2a762d-8e28-433a-d0f6-626a1e16e2f4"
   },
   "outputs": [],
   "source": [
    "vocab_counting = dict(Counter(de_data).most_common()) \n",
    "print(vocab_counting)"
   ]
  },
  {
   "cell_type": "markdown",
   "metadata": {},
   "source": [
    "# ★WordCloud★"
   ]
  },
  {
   "cell_type": "code",
   "execution_count": null,
   "metadata": {
    "id": "LcZTdLU2SX5f",
    "outputId": "8061a1eb-3ac9-4a28-a595-ae2c7e9af4f2"
   },
   "outputs": [],
   "source": [
    "from wordcloud import WordCloud \n",
    "import matplotlib.pyplot as plt \n",
    "%matplotlib inline \n",
    "import matplotlib \n",
    "from matplotlib import rc\n",
    "rc('font', family='NanumBarunGothic')"
   ]
  },
  {
   "cell_type": "code",
   "execution_count": null,
   "metadata": {},
   "outputs": [],
   "source": [
    "wordcloud= WordCloud(\n",
    "    background_color='black',                    # 배경 색깔\n",
    "    colormap = 'Accent_r',                       # 폰트 색깔\n",
    "    width = 800,\n",
    "    height = 800\n",
    ")"
   ]
  },
  {
   "cell_type": "code",
   "execution_count": null,
   "metadata": {},
   "outputs": [],
   "source": [
    "wordcloud_words = wordcloud.generate_from_frequencies(vocab_counting)"
   ]
  },
  {
   "cell_type": "code",
   "execution_count": null,
   "metadata": {},
   "outputs": [],
   "source": [
    "array = wordcloud_words.to_array()\n",
    "fig = plt.figure(figsize=(10, 10))\n",
    "plt.imshow(array, interpolation=\"bilinear\")\n",
    "plt.axis('off')\n",
    "plt.show()\n",
    "fig.savefig('de_worldcloud.png')"
   ]
  },
  {
   "cell_type": "code",
   "execution_count": null,
   "metadata": {},
   "outputs": [],
   "source": []
  }
 ],
 "metadata": {
  "colab": {
   "collapsed_sections": [],
   "name": "de_LDA.ipynb",
   "provenance": []
  },
  "kernelspec": {
   "display_name": "Python 3",
   "language": "python",
   "name": "python3"
  },
  "language_info": {
   "codemirror_mode": {
    "name": "ipython",
    "version": 3
   },
   "file_extension": ".py",
   "mimetype": "text/x-python",
   "name": "python",
   "nbconvert_exporter": "python",
   "pygments_lexer": "ipython3",
   "version": "3.7.7"
  }
 },
 "nbformat": 4,
 "nbformat_minor": 1
}

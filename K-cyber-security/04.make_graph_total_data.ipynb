{
 "cells": [
  {
   "cell_type": "code",
   "execution_count": 1,
   "metadata": {},
   "outputs": [],
   "source": [
    "import pandas as pd\n",
    "import numpy as np\n",
    "import matplotlib\n",
    "import matplotlib.pyplot as plt\n",
    "from collections import Counter\n",
    "from ip2geotools.databases.noncommercial import DbIpCity"
   ]
  },
  {
   "cell_type": "code",
   "execution_count": 2,
   "metadata": {},
   "outputs": [],
   "source": [
    "# 그래프에 한글 폰트를 사용하기 위함\n",
    "import matplotlib.font_manager as fm\n",
    "fm.get_fontconfig_fonts()\n",
    "font_location = 'C:/Windows/Fonts/gulim.ttc' # For Windows\n",
    "font_name = fm.FontProperties(fname=font_location).get_name()\n",
    "matplotlib.rc('font', family=font_name)\n",
    "\n",
    "%matplotlib inline"
   ]
  },
  {
   "cell_type": "code",
   "execution_count": 3,
   "metadata": {},
   "outputs": [],
   "source": [
    "input_file_name = 'C:/Users/Playdata/pytest/contest/main_df.csv'\n",
    "df = pd.read_csv(input_file_name, encoding= 'utf8')"
   ]
  },
  {
   "cell_type": "code",
   "execution_count": 4,
   "metadata": {
    "scrolled": true
   },
   "outputs": [
    {
     "data": {
      "text/html": [
       "<div>\n",
       "<style scoped>\n",
       "    .dataframe tbody tr th:only-of-type {\n",
       "        vertical-align: middle;\n",
       "    }\n",
       "\n",
       "    .dataframe tbody tr th {\n",
       "        vertical-align: top;\n",
       "    }\n",
       "\n",
       "    .dataframe thead th {\n",
       "        text-align: right;\n",
       "    }\n",
       "</style>\n",
       "<table border=\"1\" class=\"dataframe\">\n",
       "  <thead>\n",
       "    <tr style=\"text-align: right;\">\n",
       "      <th></th>\n",
       "      <th>file_name</th>\n",
       "      <th>MAIL_FROM</th>\n",
       "      <th>Received</th>\n",
       "      <th>Date</th>\n",
       "      <th>text_without_tag</th>\n",
       "      <th>include_url</th>\n",
       "      <th>num_of_imgs</th>\n",
       "      <th>Year</th>\n",
       "      <th>Month</th>\n",
       "      <th>Day</th>\n",
       "      <th>Time</th>\n",
       "      <th>length_of_text</th>\n",
       "      <th>main_language</th>\n",
       "      <th>Group</th>\n",
       "      <th>ip</th>\n",
       "    </tr>\n",
       "  </thead>\n",
       "  <tbody>\n",
       "    <tr>\n",
       "      <th>0</th>\n",
       "      <td>059faa80-e6d3-47ff-8a45-edf0fba4e398.eml</td>\n",
       "      <td>juyoung@gmail.com</td>\n",
       "      <td>from [102.48.236.154] by 73.132.221.32 id &lt;954...</td>\n",
       "      <td>Mon, 16 Dec 2019 21:41:42 +0100</td>\n",
       "      <td>Content-Type: text/html;\\nContent-Transfer-Enc...</td>\n",
       "      <td>1</td>\n",
       "      <td>0</td>\n",
       "      <td>2019.0</td>\n",
       "      <td>Dec</td>\n",
       "      <td>Mon</td>\n",
       "      <td>21.0</td>\n",
       "      <td>533.0</td>\n",
       "      <td>ko</td>\n",
       "      <td>A</td>\n",
       "      <td>102.48.236.154</td>\n",
       "    </tr>\n",
       "    <tr>\n",
       "      <th>1</th>\n",
       "      <td>059fd5ff-a546-4924-a6e9-a14f3bba805d.eml</td>\n",
       "      <td>suminy@outlook.kr</td>\n",
       "      <td>from [167.139.250.4] by 73.132.221.32 with ESM...</td>\n",
       "      <td>Mon, 20 Apr 2020 22:38:31 -0200</td>\n",
       "      <td>Content-Type: text/html;\\nContent-Transfer-Enc...</td>\n",
       "      <td>1</td>\n",
       "      <td>0</td>\n",
       "      <td>2020.0</td>\n",
       "      <td>Apr</td>\n",
       "      <td>Mon</td>\n",
       "      <td>22.0</td>\n",
       "      <td>509.0</td>\n",
       "      <td>ko</td>\n",
       "      <td>A</td>\n",
       "      <td>167.139.250.4</td>\n",
       "    </tr>\n",
       "    <tr>\n",
       "      <th>2</th>\n",
       "      <td>059fd98b-68f8-4722-8870-9671abfda544.eml</td>\n",
       "      <td>jisun@nate.com</td>\n",
       "      <td>from [211.204.37.3] by 73.132.221.32 with ESMT...</td>\n",
       "      <td>Mon, 03 Feb 2020 11:41:18 -0600</td>\n",
       "      <td>Content-Type: text/html;\\nContent-Transfer-Enc...</td>\n",
       "      <td>1</td>\n",
       "      <td>0</td>\n",
       "      <td>2020.0</td>\n",
       "      <td>Feb</td>\n",
       "      <td>Mon</td>\n",
       "      <td>11.0</td>\n",
       "      <td>527.0</td>\n",
       "      <td>ko</td>\n",
       "      <td>B</td>\n",
       "      <td>211.204.37.3</td>\n",
       "    </tr>\n",
       "    <tr>\n",
       "      <th>3</th>\n",
       "      <td>059ffd38-f893-46ff-b65d-2f70da33dd90.eml</td>\n",
       "      <td>yenjuy@outlook.kr</td>\n",
       "      <td>from [208.206.157.152] by 73.132.221.32 with E...</td>\n",
       "      <td>Sun, 05 Apr 2020 22:39:19 +0300</td>\n",
       "      <td>Content-Type: text/html;\\nContent-Transfer-Enc...</td>\n",
       "      <td>1</td>\n",
       "      <td>0</td>\n",
       "      <td>2020.0</td>\n",
       "      <td>Apr</td>\n",
       "      <td>Sun</td>\n",
       "      <td>22.0</td>\n",
       "      <td>217.0</td>\n",
       "      <td>ko</td>\n",
       "      <td>A</td>\n",
       "      <td>208.206.157.152</td>\n",
       "    </tr>\n",
       "    <tr>\n",
       "      <th>4</th>\n",
       "      <td>059ffe9c-b1a7-4b57-8174-8b0afe03366e.eml</td>\n",
       "      <td>noah@ajne.com</td>\n",
       "      <td>from localhost ([127.0.0.1]) by localhost via ...</td>\n",
       "      <td>Tue, 21 Apr 2020 17:52:56 +0800</td>\n",
       "      <td>This message contained an attachment that was ...</td>\n",
       "      <td>0</td>\n",
       "      <td>0</td>\n",
       "      <td>2020.0</td>\n",
       "      <td>Apr</td>\n",
       "      <td>Tue</td>\n",
       "      <td>17.0</td>\n",
       "      <td>210.0</td>\n",
       "      <td>en</td>\n",
       "      <td>D</td>\n",
       "      <td>127.0.0.1</td>\n",
       "    </tr>\n",
       "  </tbody>\n",
       "</table>\n",
       "</div>"
      ],
      "text/plain": [
       "                                  file_name          MAIL_FROM  \\\n",
       "0  059faa80-e6d3-47ff-8a45-edf0fba4e398.eml  juyoung@gmail.com   \n",
       "1  059fd5ff-a546-4924-a6e9-a14f3bba805d.eml  suminy@outlook.kr   \n",
       "2  059fd98b-68f8-4722-8870-9671abfda544.eml     jisun@nate.com   \n",
       "3  059ffd38-f893-46ff-b65d-2f70da33dd90.eml  yenjuy@outlook.kr   \n",
       "4  059ffe9c-b1a7-4b57-8174-8b0afe03366e.eml      noah@ajne.com   \n",
       "\n",
       "                                            Received  \\\n",
       "0  from [102.48.236.154] by 73.132.221.32 id <954...   \n",
       "1  from [167.139.250.4] by 73.132.221.32 with ESM...   \n",
       "2  from [211.204.37.3] by 73.132.221.32 with ESMT...   \n",
       "3  from [208.206.157.152] by 73.132.221.32 with E...   \n",
       "4  from localhost ([127.0.0.1]) by localhost via ...   \n",
       "\n",
       "                              Date  \\\n",
       "0  Mon, 16 Dec 2019 21:41:42 +0100   \n",
       "1  Mon, 20 Apr 2020 22:38:31 -0200   \n",
       "2  Mon, 03 Feb 2020 11:41:18 -0600   \n",
       "3  Sun, 05 Apr 2020 22:39:19 +0300   \n",
       "4  Tue, 21 Apr 2020 17:52:56 +0800   \n",
       "\n",
       "                                    text_without_tag  include_url  \\\n",
       "0  Content-Type: text/html;\\nContent-Transfer-Enc...            1   \n",
       "1  Content-Type: text/html;\\nContent-Transfer-Enc...            1   \n",
       "2  Content-Type: text/html;\\nContent-Transfer-Enc...            1   \n",
       "3  Content-Type: text/html;\\nContent-Transfer-Enc...            1   \n",
       "4  This message contained an attachment that was ...            0   \n",
       "\n",
       "   num_of_imgs    Year Month  Day  Time  length_of_text main_language Group  \\\n",
       "0            0  2019.0   Dec  Mon  21.0           533.0            ko     A   \n",
       "1            0  2020.0   Apr  Mon  22.0           509.0            ko     A   \n",
       "2            0  2020.0   Feb  Mon  11.0           527.0            ko     B   \n",
       "3            0  2020.0   Apr  Sun  22.0           217.0            ko     A   \n",
       "4            0  2020.0   Apr  Tue  17.0           210.0            en     D   \n",
       "\n",
       "                ip  \n",
       "0   102.48.236.154  \n",
       "1    167.139.250.4  \n",
       "2     211.204.37.3  \n",
       "3  208.206.157.152  \n",
       "4        127.0.0.1  "
      ]
     },
     "execution_count": 4,
     "metadata": {},
     "output_type": "execute_result"
    }
   ],
   "source": [
    "df.head()"
   ]
  },
  {
   "cell_type": "code",
   "execution_count": 5,
   "metadata": {},
   "outputs": [],
   "source": [
    "# dataframe의 형태를 잘림 없이 확인하기 위해 html 형식 파일에서 따로 열어서 확인\n",
    "df_temp = df.iloc[:5,:]\n",
    "df_temp.to_html('C:/Users/Playdata/Desktop/izvestaj.html')"
   ]
  },
  {
   "cell_type": "code",
   "execution_count": 8,
   "metadata": {},
   "outputs": [
    {
     "data": {
      "image/png": "[encoded data removed]",
      "text/plain": [
       "<Figure size 432x288 with 1 Axes>"
      ]
     },
     "metadata": {},
     "output_type": "display_data"
    }
   ],
   "source": [
    "# 전체 데이터에서 url 포함 메일의 비율\n",
    "url_counter = Counter(df['include_url'])\n",
    "plt.pie(url_counter.values(), autopct='%1.1f%%', colors = ['tab:green', 'tab:orange'], labels= ['With_url', 'No_url'] )\n",
    "\n",
    "centre_circle = plt.Circle((0,0),0.4,color='white', fc='white',linewidth=1.25)\n",
    "fig = plt.gcf()\n",
    "fig.gca().add_artist(centre_circle)\n",
    "\n",
    "plt.title('전체 url 포함 여부')\n",
    "plt.savefig('total_data_graph/total_url.png', dpi=300)"
   ]
  },
  {
   "cell_type": "code",
   "execution_count": 21,
   "metadata": {},
   "outputs": [],
   "source": [
    "# 전체 데이터에서 이미지 포함 메일의 비율\n",
    "\n",
    "img_counter = Counter(df['num_of_imgs'])\n",
    "img_counter2 = {}\n",
    "img_counter2['with_img'] = 0\n",
    "for i in sorted(img_counter.keys()):\n",
    "    if i ==0 :\n",
    "        img_counter2['without_img'] = img_counter[i]\n",
    "    else:\n",
    "        img_counter2['with_img'] += img_counter[i]\n",
    "    \n"
   ]
  },
  {
   "cell_type": "code",
   "execution_count": 22,
   "metadata": {},
   "outputs": [],
   "source": [
    "# 이미지를 포함한 데이터에서 이미지 개수별 메일의 비율\n",
    "\n",
    "img_counter3 = {}\n",
    "img_counter3['over_5'] = 0\n",
    "for i in sorted(img_counter.keys()):\n",
    "    if i >0 and i <5 :\n",
    "        img_counter3[i] = img_counter[i]\n",
    "    elif i >=5: \n",
    "        img_counter3['over_5'] += img_counter[i]"
   ]
  },
  {
   "cell_type": "code",
   "execution_count": 23,
   "metadata": {
    "scrolled": true
   },
   "outputs": [
    {
     "data": {
      "image/png": "[encoded data removed]",
      "text/plain": [
       "<Figure size 720x360 with 2 Axes>"
      ]
     },
     "metadata": {},
     "output_type": "display_data"
    }
   ],
   "source": [
    "color = ['yellowgreen', 'gold', 'lightskyblue', 'lightcoral', 'coral', 'orchid']\n",
    "\n",
    "fig = plt.figure(figsize=(10,5))\n",
    "ax1 = fig.add_subplot(1,2,1)\n",
    "ax2 = fig.add_subplot(1,2,2)\n",
    "\n",
    "ax1.pie(img_counter2.values(), autopct='%1.1f%%', colors = color, labels=img_counter2.keys())\n",
    "ax1.legend(img_counter2.keys())\n",
    "ax1.set_title('전체 img 포함 여부')\n",
    "\n",
    "ax2.pie(img_counter3.values(), autopct='%1.1f%%', colors = color, labels=img_counter3.keys())\n",
    "ax2.legend(img_counter3.keys())\n",
    "ax2.set_title('전체 img 개수 비율')\n",
    "\n",
    "plt.savefig('total_data_graph/total_img.png', dpi=300)"
   ]
  },
  {
   "cell_type": "code",
   "execution_count": 10,
   "metadata": {},
   "outputs": [],
   "source": [
    "# 연도별 빈도 그래프\n",
    "year_counter = Counter(df['Year'].dropna())"
   ]
  },
  {
   "cell_type": "code",
   "execution_count": 8,
   "metadata": {},
   "outputs": [
    {
     "data": {
      "text/plain": [
       "<BarContainer object of 30030 artists>"
      ]
     },
     "execution_count": 8,
     "metadata": {},
     "output_type": "execute_result"
    },
    {
     "data": {
      "image/png": "[encoded data removed]",
      "text/plain": [
       "<Figure size 432x288 with 1 Axes>"
      ]
     },
     "metadata": {
      "needs_background": "light"
     },
     "output_type": "display_data"
    }
   ],
   "source": [
    "color= ['red', 'orangered', 'orange', 'gold', 'olivedrab', 'lawngreen', 'forestgreen', 'lime', 'springgreen', \n",
    "           'turquoise', 'slateblue', 'purple']\n",
    "plt.bar(sorted(year_counter.keys()), [year_counter[i] for i in sorted(year_counter.keys()) ] , color= color)\n"
   ]
  },
  {
   "cell_type": "code",
   "execution_count": 14,
   "metadata": {},
   "outputs": [],
   "source": [
    "# 월별 빈도 그래프\n",
    "month_counter = Counter(df['Month'])"
   ]
  },
  {
   "cell_type": "code",
   "execution_count": 15,
   "metadata": {
    "scrolled": true
   },
   "outputs": [
    {
     "data": {
      "image/png": "[encoded data removed]",
      "text/plain": [
       "<Figure size 432x288 with 1 Axes>"
      ]
     },
     "metadata": {
      "needs_background": "light"
     },
     "output_type": "display_data"
    }
   ],
   "source": [
    "Months = ['Jan', 'Feb', 'Mar', 'Apr', 'May', 'Jun', 'Jul', 'Aug', 'Sep', 'Oct', 'Nov', \"Dec\"]\n",
    "color= ['red', 'orangered', 'orange', 'gold', 'olivedrab', 'lawngreen', 'forestgreen', 'lime', 'springgreen', \n",
    "           'turquoise', 'slateblue', 'purple']\n",
    "\n",
    "plt.bar(Months, [month_counter[i] for i in Months ] , color= color)\n",
    "plt.title('전체 월별 분포도')\n",
    "plt.savefig('total_data_graph/total_month.png', dpi=300)"
   ]
  },
  {
   "cell_type": "code",
   "execution_count": 16,
   "metadata": {},
   "outputs": [],
   "source": [
    "# 요일별 빈도 그래프\n",
    "day_counter = Counter(df['Day'])"
   ]
  },
  {
   "cell_type": "code",
   "execution_count": 18,
   "metadata": {
    "scrolled": true
   },
   "outputs": [
    {
     "data": {
      "image/png": "[encoded data removed]",
      "text/plain": [
       "<Figure size 432x288 with 1 Axes>"
      ]
     },
     "metadata": {
      "needs_background": "light"
     },
     "output_type": "display_data"
    }
   ],
   "source": [
    "Days = ['Mon', 'Tue' , 'Wed' , 'Thu', 'Fri', 'Sat', 'Sun']\n",
    "\n",
    "plt.bar(Days, [day_counter[i] for i in Days ] , color= color)\n",
    "plt.title('전체 요일 분포도')\n",
    "plt.savefig('total_data_graph/total_day.png', dpi=300)"
   ]
  },
  {
   "cell_type": "code",
   "execution_count": 28,
   "metadata": {},
   "outputs": [],
   "source": [
    "# 시간별 빈도 그래프. 시간대를 3시간 간격으로 구분지어 통합함\n",
    "time_counter = Counter(df['Time'].dropna())\n",
    "time_counter1 = {}\n",
    "for i in sorted(time_counter.keys()):\n",
    "    if int(i) < 24:\n",
    "        time_counter1[int(i)] = time_counter[i]\n",
    "    else:\n",
    "        time_counter1[int(i)-24] += time_counter[i]"
   ]
  },
  {
   "cell_type": "code",
   "execution_count": 29,
   "metadata": {
    "scrolled": true
   },
   "outputs": [
    {
     "data": {
      "image/png": "[encoded data removed]",
      "text/plain": [
       "<Figure size 432x288 with 1 Axes>"
      ]
     },
     "metadata": {
      "needs_background": "light"
     },
     "output_type": "display_data"
    }
   ],
   "source": [
    "Time_range = ['0~2','3~5','6~8', '9~11', '12~14','15~17' , '18~20' , '21~23' ]\n",
    "color= ['orangered', 'orange', 'gold', 'olivedrab', 'lawngreen', 'olive', 'royalblue', 'springgreen']\n",
    "plt.bar(Time_range, [time_counter1[i] + time_counter1[i+1] + time_counter1[i+2] for i in range(0,24,3) ] , color= color)\n",
    "plt.title('전체 시간 분포도')\n",
    "plt.savefig('total_data_graph/total_time.png', dpi=300)"
   ]
  },
  {
   "cell_type": "code",
   "execution_count": 30,
   "metadata": {},
   "outputs": [],
   "source": [
    "# 전체 데이터에서 언어별 메일의 비율\n",
    "lan_counter = Counter(df['main_language'].dropna())\n",
    "languages = ['ko', 'en', 'de', 'ja']\n",
    "lan_counter1 = {}\n",
    "lan_counter1['others'] = 0\n",
    "\n",
    "for i in lan_counter.keys():\n",
    "    if i in languages:\n",
    "        lan_counter1[i] = lan_counter[i]\n",
    "    else:\n",
    "        lan_counter1['others'] += lan_counter[i]"
   ]
  },
  {
   "cell_type": "code",
   "execution_count": 31,
   "metadata": {},
   "outputs": [
    {
     "data": {
      "image/png": "[encoded data removed]",
      "text/plain": [
       "<Figure size 432x288 with 1 Axes>"
      ]
     },
     "metadata": {},
     "output_type": "display_data"
    }
   ],
   "source": [
    "color = ['gold' , 'indianred', 'darkgoldenrod', 'lightseagreen', 'mediumseagreen']\n",
    "plt.pie(lan_counter1.values(), autopct='%1.1f%%', colors = color, labels=lan_counter1.keys())\n",
    "\n",
    "centre_circle = plt.Circle((0,0),0.4,color='white', fc='white',linewidth=1.25)\n",
    "fig = plt.gcf()\n",
    "fig.gca().add_artist(centre_circle)\n",
    "\n",
    "plt.title('전체 언어 분포')\n",
    "plt.savefig('total_data_graph/total_language.png', dpi=300)"
   ]
  },
  {
   "cell_type": "code",
   "execution_count": 135,
   "metadata": {},
   "outputs": [],
   "source": [
    "# 같은 ip 주소에서 100번 이상 발송한 메일의 국가별 빈도 그래프\n",
    "ip_counter = Counter(df['ip'].dropna())\n",
    "ip_over_100 = [ i for i in ip_counter.items() if i[1]>=100 ]"
   ]
  },
  {
   "cell_type": "code",
   "execution_count": 136,
   "metadata": {
    "scrolled": true
   },
   "outputs": [
    {
     "name": "stdout",
     "output_type": "stream",
     "text": [
      "{}\n",
      "{}\n",
      "{'HK': 1309}\n",
      "{'HK': 2514}\n",
      "{'HK': 3507}\n",
      "{'HK': 5023}\n",
      "{'HK': 5023, 'US': 850}\n",
      "{'HK': 5023, 'US': 2134}\n",
      "{'HK': 5023, 'US': 2904}\n",
      "{'HK': 5319, 'US': 2904}\n",
      "{'HK': 5319, 'US': 4025}\n",
      "{'HK': 5436, 'US': 4025}\n",
      "{'HK': 7777, 'US': 4025}\n",
      "{'HK': 7777, 'US': 5366}\n",
      "{'HK': 7777, 'US': 5366}\n",
      "{'HK': 7777, 'US': 5366, 'BR': 158}\n",
      "{'HK': 8199, 'US': 5366, 'BR': 158}\n",
      "{'HK': 8199, 'US': 5612, 'BR': 158}\n",
      "{'HK': 8199, 'US': 5612, 'BR': 536}\n",
      "{'HK': 8199, 'US': 5612, 'BR': 536, 'NL': 113}\n",
      "{'HK': 8199, 'US': 5735, 'BR': 536, 'NL': 113}\n",
      "{'HK': 8199, 'US': 5859, 'BR': 536, 'NL': 113}\n",
      "{'HK': 8199, 'US': 5859, 'BR': 536, 'NL': 113}\n",
      "{'HK': 8199, 'US': 6004, 'BR': 536, 'NL': 113}\n",
      "{'HK': 8199, 'US': 6481, 'BR': 536, 'NL': 113}\n",
      "{'HK': 8199, 'US': 6587, 'BR': 536, 'NL': 113}\n",
      "{'HK': 8199, 'US': 7615, 'BR': 536, 'NL': 113}\n",
      "{'HK': 8199, 'US': 7803, 'BR': 536, 'NL': 113}\n",
      "{'HK': 8199, 'US': 8013, 'BR': 536, 'NL': 113}\n",
      "{'HK': 8199, 'US': 8195, 'BR': 536, 'NL': 113}\n",
      "{'HK': 8199, 'US': 8382, 'BR': 536, 'NL': 113}\n",
      "{'HK': 8199, 'US': 8382, 'BR': 536, 'NL': 113}\n",
      "{'HK': 8199, 'US': 8551, 'BR': 536, 'NL': 113}\n",
      "{'HK': 8199, 'US': 8654, 'BR': 536, 'NL': 113}\n",
      "{'HK': 8199, 'US': 8769, 'BR': 536, 'NL': 113}\n",
      "{'HK': 8199, 'US': 8769, 'BR': 685, 'NL': 113}\n",
      "{'HK': 8753, 'US': 8769, 'BR': 685, 'NL': 113}\n",
      "{'HK': 8753, 'US': 8921, 'BR': 685, 'NL': 113}\n",
      "{'HK': 8753, 'US': 9062, 'BR': 685, 'NL': 113}\n",
      "{'HK': 8753, 'US': 9202, 'BR': 685, 'NL': 113}\n",
      "{'HK': 8753, 'US': 9314, 'BR': 685, 'NL': 113}\n",
      "{'HK': 8753, 'US': 9503, 'BR': 685, 'NL': 113}\n",
      "{'HK': 8753, 'US': 9503, 'BR': 840, 'NL': 113}\n",
      "{'HK': 8753, 'US': 9762, 'BR': 840, 'NL': 113}\n",
      "{'HK': 8753, 'US': 10031, 'BR': 840, 'NL': 113}\n",
      "{'HK': 8753, 'US': 10146, 'BR': 840, 'NL': 113}\n",
      "{'HK': 8753, 'US': 10336, 'BR': 840, 'NL': 113}\n",
      "{'HK': 8753, 'US': 10527, 'BR': 840, 'NL': 113}\n",
      "{'HK': 8753, 'US': 10527, 'BR': 840, 'NL': 113}\n",
      "{'HK': 8753, 'US': 10527, 'BR': 840, 'NL': 113, 'RU': 115}\n",
      "{'HK': 8753, 'US': 10678, 'BR': 840, 'NL': 113, 'RU': 115}\n",
      "{'HK': 8753, 'US': 13200, 'BR': 840, 'NL': 113, 'RU': 115}\n",
      "{'HK': 8753, 'US': 13567, 'BR': 840, 'NL': 113, 'RU': 115}\n",
      "{'HK': 8753, 'US': 13961, 'BR': 840, 'NL': 113, 'RU': 115}\n",
      "{'HK': 9322, 'US': 13961, 'BR': 840, 'NL': 113, 'RU': 115}\n",
      "{'HK': 9322, 'US': 13961, 'BR': 840, 'NL': 113, 'RU': 115}\n",
      "{'HK': 9322, 'US': 13961, 'BR': 840, 'NL': 113, 'RU': 115, 'DE': 109}\n",
      "{'HK': 9322, 'US': 13961, 'BR': 840, 'NL': 113, 'RU': 115, 'DE': 109}\n",
      "{'HK': 9500, 'US': 13961, 'BR': 840, 'NL': 113, 'RU': 115, 'DE': 109}\n",
      "{'HK': 9500, 'US': 13961, 'BR': 840, 'NL': 113, 'RU': 115, 'DE': 109, 'GB': 423}\n",
      "{'HK': 9500, 'US': 13961, 'BR': 840, 'NL': 113, 'RU': 115, 'DE': 109, 'GB': 423, 'IN': 131}\n",
      "{'HK': 9500, 'US': 13961, 'BR': 840, 'NL': 113, 'RU': 115, 'DE': 109, 'GB': 423, 'IN': 131}\n",
      "{'HK': 9500, 'US': 14189, 'BR': 840, 'NL': 113, 'RU': 115, 'DE': 109, 'GB': 423, 'IN': 131}\n",
      "{'HK': 10119, 'US': 14189, 'BR': 840, 'NL': 113, 'RU': 115, 'DE': 109, 'GB': 423, 'IN': 131}\n",
      "{'HK': 10317, 'US': 14189, 'BR': 840, 'NL': 113, 'RU': 115, 'DE': 109, 'GB': 423, 'IN': 131}\n",
      "{'HK': 10317, 'US': 14314, 'BR': 840, 'NL': 113, 'RU': 115, 'DE': 109, 'GB': 423, 'IN': 131}\n",
      "{'HK': 10317, 'US': 14314, 'BR': 840, 'NL': 113, 'RU': 115, 'DE': 109, 'GB': 423, 'IN': 131, 'JP': 264}\n",
      "{'HK': 10317, 'US': 14531, 'BR': 840, 'NL': 113, 'RU': 115, 'DE': 109, 'GB': 423, 'IN': 131, 'JP': 264}\n",
      "{'HK': 10317, 'US': 14531, 'BR': 1009, 'NL': 113, 'RU': 115, 'DE': 109, 'GB': 423, 'IN': 131, 'JP': 264}\n",
      "{'HK': 10317, 'US': 14842, 'BR': 1009, 'NL': 113, 'RU': 115, 'DE': 109, 'GB': 423, 'IN': 131, 'JP': 264}\n",
      "{'HK': 10317, 'US': 14842, 'BR': 1009, 'NL': 113, 'RU': 115, 'DE': 109, 'GB': 423, 'IN': 131, 'JP': 264}\n",
      "{'HK': 10317, 'US': 14956, 'BR': 1009, 'NL': 113, 'RU': 115, 'DE': 109, 'GB': 423, 'IN': 131, 'JP': 264}\n",
      "{'HK': 10317, 'US': 15162, 'BR': 1009, 'NL': 113, 'RU': 115, 'DE': 109, 'GB': 423, 'IN': 131, 'JP': 264}\n",
      "{'HK': 10317, 'US': 15320, 'BR': 1009, 'NL': 113, 'RU': 115, 'DE': 109, 'GB': 423, 'IN': 131, 'JP': 264}\n",
      "{'HK': 10317, 'US': 15320, 'BR': 1009, 'NL': 113, 'RU': 115, 'DE': 109, 'GB': 423, 'IN': 131, 'JP': 264}\n",
      "{'HK': 10317, 'US': 15320, 'BR': 1151, 'NL': 113, 'RU': 115, 'DE': 109, 'GB': 423, 'IN': 131, 'JP': 264}\n",
      "{'HK': 10317, 'US': 15320, 'BR': 1293, 'NL': 113, 'RU': 115, 'DE': 109, 'GB': 423, 'IN': 131, 'JP': 264}\n",
      "{'HK': 10317, 'US': 15444, 'BR': 1293, 'NL': 113, 'RU': 115, 'DE': 109, 'GB': 423, 'IN': 131, 'JP': 264}\n",
      "{'HK': 10317, 'US': 15545, 'BR': 1293, 'NL': 113, 'RU': 115, 'DE': 109, 'GB': 423, 'IN': 131, 'JP': 264}\n",
      "{'HK': 10317, 'US': 15686, 'BR': 1293, 'NL': 113, 'RU': 115, 'DE': 109, 'GB': 423, 'IN': 131, 'JP': 264}\n",
      "{'HK': 10317, 'US': 15824, 'BR': 1293, 'NL': 113, 'RU': 115, 'DE': 109, 'GB': 423, 'IN': 131, 'JP': 264}\n",
      "{'HK': 10317, 'US': 15824, 'BR': 1417, 'NL': 113, 'RU': 115, 'DE': 109, 'GB': 423, 'IN': 131, 'JP': 264}\n",
      "{'HK': 10317, 'US': 15928, 'BR': 1417, 'NL': 113, 'RU': 115, 'DE': 109, 'GB': 423, 'IN': 131, 'JP': 264}\n",
      "{'HK': 10317, 'US': 15928, 'BR': 1550, 'NL': 113, 'RU': 115, 'DE': 109, 'GB': 423, 'IN': 131, 'JP': 264}\n",
      "{'HK': 10317, 'US': 16142, 'BR': 1550, 'NL': 113, 'RU': 115, 'DE': 109, 'GB': 423, 'IN': 131, 'JP': 264}\n",
      "{'HK': 10317, 'US': 16247, 'BR': 1550, 'NL': 113, 'RU': 115, 'DE': 109, 'GB': 423, 'IN': 131, 'JP': 264}\n",
      "{'HK': 10317, 'US': 16362, 'BR': 1550, 'NL': 113, 'RU': 115, 'DE': 109, 'GB': 423, 'IN': 131, 'JP': 264}\n",
      "{'HK': 10317, 'US': 16532, 'BR': 1550, 'NL': 113, 'RU': 115, 'DE': 109, 'GB': 423, 'IN': 131, 'JP': 264}\n",
      "{'HK': 10317, 'US': 16694, 'BR': 1550, 'NL': 113, 'RU': 115, 'DE': 109, 'GB': 423, 'IN': 131, 'JP': 264}\n",
      "{'HK': 10317, 'US': 16821, 'BR': 1550, 'NL': 113, 'RU': 115, 'DE': 109, 'GB': 423, 'IN': 131, 'JP': 264}\n",
      "{'HK': 10317, 'US': 16821, 'BR': 1550, 'NL': 113, 'RU': 115, 'DE': 109, 'GB': 423, 'IN': 131, 'JP': 264}\n",
      "{'HK': 10317, 'US': 16948, 'BR': 1550, 'NL': 113, 'RU': 115, 'DE': 109, 'GB': 423, 'IN': 131, 'JP': 264}\n",
      "{'HK': 10317, 'US': 17148, 'BR': 1550, 'NL': 113, 'RU': 115, 'DE': 109, 'GB': 423, 'IN': 131, 'JP': 264}\n",
      "{'HK': 10317, 'US': 17321, 'BR': 1550, 'NL': 113, 'RU': 115, 'DE': 109, 'GB': 423, 'IN': 131, 'JP': 264}\n",
      "{'HK': 10317, 'US': 17573, 'BR': 1550, 'NL': 113, 'RU': 115, 'DE': 109, 'GB': 423, 'IN': 131, 'JP': 264}\n",
      "{'HK': 10317, 'US': 17694, 'BR': 1550, 'NL': 113, 'RU': 115, 'DE': 109, 'GB': 423, 'IN': 131, 'JP': 264}\n",
      "{'HK': 10317, 'US': 17694, 'BR': 1704, 'NL': 113, 'RU': 115, 'DE': 109, 'GB': 423, 'IN': 131, 'JP': 264}\n",
      "{'HK': 10317, 'US': 17918, 'BR': 1704, 'NL': 113, 'RU': 115, 'DE': 109, 'GB': 423, 'IN': 131, 'JP': 264}\n",
      "{'HK': 10317, 'US': 17918, 'BR': 1942, 'NL': 113, 'RU': 115, 'DE': 109, 'GB': 423, 'IN': 131, 'JP': 264}\n",
      "{'HK': 10317, 'US': 18022, 'BR': 1942, 'NL': 113, 'RU': 115, 'DE': 109, 'GB': 423, 'IN': 131, 'JP': 264}\n",
      "{'HK': 10317, 'US': 18022, 'BR': 1942, 'NL': 331, 'RU': 115, 'DE': 109, 'GB': 423, 'IN': 131, 'JP': 264}\n",
      "{'HK': 10317, 'US': 18136, 'BR': 1942, 'NL': 331, 'RU': 115, 'DE': 109, 'GB': 423, 'IN': 131, 'JP': 264}\n",
      "{'HK': 10317, 'US': 18136, 'BR': 2066, 'NL': 331, 'RU': 115, 'DE': 109, 'GB': 423, 'IN': 131, 'JP': 264}\n",
      "{'HK': 10317, 'US': 18240, 'BR': 2066, 'NL': 331, 'RU': 115, 'DE': 109, 'GB': 423, 'IN': 131, 'JP': 264}\n",
      "{'HK': 10317, 'US': 18367, 'BR': 2066, 'NL': 331, 'RU': 115, 'DE': 109, 'GB': 423, 'IN': 131, 'JP': 264}\n",
      "{'HK': 10317, 'US': 18476, 'BR': 2066, 'NL': 331, 'RU': 115, 'DE': 109, 'GB': 423, 'IN': 131, 'JP': 264}\n",
      "{'HK': 10317, 'US': 18476, 'BR': 2227, 'NL': 331, 'RU': 115, 'DE': 109, 'GB': 423, 'IN': 131, 'JP': 264}\n",
      "{'HK': 10317, 'US': 18618, 'BR': 2227, 'NL': 331, 'RU': 115, 'DE': 109, 'GB': 423, 'IN': 131, 'JP': 264}\n",
      "{'HK': 10317, 'US': 18730, 'BR': 2227, 'NL': 331, 'RU': 115, 'DE': 109, 'GB': 423, 'IN': 131, 'JP': 264}\n",
      "{'HK': 10317, 'US': 18730, 'BR': 2358, 'NL': 331, 'RU': 115, 'DE': 109, 'GB': 423, 'IN': 131, 'JP': 264}\n",
      "{'HK': 10473, 'US': 18730, 'BR': 2358, 'NL': 331, 'RU': 115, 'DE': 109, 'GB': 423, 'IN': 131, 'JP': 264}\n",
      "{'HK': 10473, 'US': 18730, 'BR': 2541, 'NL': 331, 'RU': 115, 'DE': 109, 'GB': 423, 'IN': 131, 'JP': 264}\n",
      "{'HK': 10473, 'US': 18831, 'BR': 2541, 'NL': 331, 'RU': 115, 'DE': 109, 'GB': 423, 'IN': 131, 'JP': 264}\n",
      "{'HK': 10473, 'US': 18831, 'BR': 2681, 'NL': 331, 'RU': 115, 'DE': 109, 'GB': 423, 'IN': 131, 'JP': 264}\n",
      "{'HK': 10473, 'US': 18946, 'BR': 2681, 'NL': 331, 'RU': 115, 'DE': 109, 'GB': 423, 'IN': 131, 'JP': 264}\n"
     ]
    },
    {
     "name": "stdout",
     "output_type": "stream",
     "text": [
      "{'HK': 10473, 'US': 19049, 'BR': 2681, 'NL': 331, 'RU': 115, 'DE': 109, 'GB': 423, 'IN': 131, 'JP': 264}\n",
      "{'HK': 10473, 'US': 19215, 'BR': 2681, 'NL': 331, 'RU': 115, 'DE': 109, 'GB': 423, 'IN': 131, 'JP': 264}\n",
      "{'HK': 10473, 'US': 19326, 'BR': 2681, 'NL': 331, 'RU': 115, 'DE': 109, 'GB': 423, 'IN': 131, 'JP': 264}\n",
      "{'HK': 10473, 'US': 19658, 'BR': 2681, 'NL': 331, 'RU': 115, 'DE': 109, 'GB': 423, 'IN': 131, 'JP': 264}\n",
      "{'HK': 10473, 'US': 19658, 'BR': 2945, 'NL': 331, 'RU': 115, 'DE': 109, 'GB': 423, 'IN': 131, 'JP': 264}\n",
      "{'HK': 10473, 'US': 19658, 'BR': 3093, 'NL': 331, 'RU': 115, 'DE': 109, 'GB': 423, 'IN': 131, 'JP': 264}\n",
      "{'HK': 10473, 'US': 19658, 'BR': 3234, 'NL': 331, 'RU': 115, 'DE': 109, 'GB': 423, 'IN': 131, 'JP': 264}\n",
      "{'HK': 10473, 'US': 19760, 'BR': 3234, 'NL': 331, 'RU': 115, 'DE': 109, 'GB': 423, 'IN': 131, 'JP': 264}\n",
      "{'HK': 10473, 'US': 19760, 'BR': 3234, 'NL': 331, 'RU': 115, 'DE': 109, 'GB': 423, 'IN': 131, 'JP': 264}\n",
      "{'HK': 10473, 'US': 19867, 'BR': 3234, 'NL': 331, 'RU': 115, 'DE': 109, 'GB': 423, 'IN': 131, 'JP': 264}\n",
      "{'HK': 10473, 'US': 20007, 'BR': 3234, 'NL': 331, 'RU': 115, 'DE': 109, 'GB': 423, 'IN': 131, 'JP': 264}\n",
      "{'HK': 10473, 'US': 20007, 'BR': 3380, 'NL': 331, 'RU': 115, 'DE': 109, 'GB': 423, 'IN': 131, 'JP': 264}\n",
      "{'HK': 10473, 'US': 20130, 'BR': 3380, 'NL': 331, 'RU': 115, 'DE': 109, 'GB': 423, 'IN': 131, 'JP': 264}\n",
      "{'HK': 10473, 'US': 20253, 'BR': 3380, 'NL': 331, 'RU': 115, 'DE': 109, 'GB': 423, 'IN': 131, 'JP': 264}\n",
      "{'HK': 10597, 'US': 20253, 'BR': 3380, 'NL': 331, 'RU': 115, 'DE': 109, 'GB': 423, 'IN': 131, 'JP': 264}\n",
      "{'HK': 10597, 'US': 20353, 'BR': 3380, 'NL': 331, 'RU': 115, 'DE': 109, 'GB': 423, 'IN': 131, 'JP': 264}\n",
      "{'HK': 10597, 'US': 20458, 'BR': 3380, 'NL': 331, 'RU': 115, 'DE': 109, 'GB': 423, 'IN': 131, 'JP': 264}\n",
      "{'HK': 10597, 'US': 20575, 'BR': 3380, 'NL': 331, 'RU': 115, 'DE': 109, 'GB': 423, 'IN': 131, 'JP': 264}\n",
      "{'HK': 10597, 'US': 20698, 'BR': 3380, 'NL': 331, 'RU': 115, 'DE': 109, 'GB': 423, 'IN': 131, 'JP': 264}\n"
     ]
    }
   ],
   "source": [
    "ip_country = {}\n",
    "for i in ip_over_100:\n",
    "    try:\n",
    "        response = DbIpCity.get(i[0], api_key='free')\n",
    "        country = response.country\n",
    "        if country in ip_country.keys():\n",
    "            ip_country[country] += i[1]\n",
    "        else:\n",
    "            ip_country[country] = i[1]\n",
    "    except:\n",
    "        pass"
   ]
  },
  {
   "cell_type": "code",
   "execution_count": 142,
   "metadata": {
    "scrolled": false
   },
   "outputs": [
    {
     "data": {
      "image/png": "[encoded data removed]",
      "text/plain": [
       "<Figure size 432x288 with 1 Axes>"
      ]
     },
     "metadata": {
      "needs_background": "light"
     },
     "output_type": "display_data"
    }
   ],
   "source": [
    "color= ['red', 'orangered', 'orange', 'gold', 'olivedrab', 'lawngreen', 'forestgreen', 'lime', 'springgreen', \n",
    "           'turquoise', 'slateblue', 'purple']\n",
    "plt.bar(ip_country.keys(),ip_country.values(), color= color)\n",
    "plt.title('100개 이상 중복 ip에 대한 국가 분포도')\n",
    "plt.savefig('total_data_graph/country.png', dpi=300)"
   ]
  },
  {
   "cell_type": "code",
   "execution_count": 32,
   "metadata": {},
   "outputs": [
    {
     "data": {
      "image/png": "[encoded data removed]",
      "text/plain": [
       "<Figure size 432x288 with 3 Axes>"
      ]
     },
     "metadata": {
      "needs_background": "light"
     },
     "output_type": "display_data"
    }
   ],
   "source": [
    "# 전체 데이터의 본문 길이\n",
    "\n",
    "f, (axl, axm, axr) = plt.subplots(1, 3, sharey=True)\n",
    "\n",
    "axl.hist(df[df['length_of_text']<1000]['length_of_text'].dropna() , 10)\n",
    "axm.hist(df[df['length_of_text'].between(1000,10000)]['length_of_text'].dropna() , 10)\n",
    "axr.hist(df[df['length_of_text']>10000]['length_of_text'].dropna() , 10)\n",
    "\n",
    "\n",
    "axl.set_xlim(0, 1000)  \n",
    "axm.set_xlim(1000, 10000)\n",
    "axr.set_xlim(10000, max(df['length_of_text']))  \n",
    "\n",
    "axl.spines['right'].set_visible(False)\n",
    "axm.spines['right'].set_visible(False)\n",
    "axm.spines['left'].set_visible(False)\n",
    "axr.spines['left'].set_visible(False)\n",
    "\n",
    "axm.get_yaxis().set_visible(False)\n",
    "axr.yaxis.tick_right()\n",
    "\n",
    "plt.subplots_adjust(wspace=0.15)\n",
    "plt.title('전체 본문 길이 분포', position= (-0.65,1))\n",
    "plt.savefig('total_data_graph/total_text_length.png', dpi=300)"
   ]
  },
  {
   "cell_type": "code",
   "execution_count": 33,
   "metadata": {},
   "outputs": [
    {
     "data": {
      "text/plain": [
       "[('A', 309510), ('B', 101816), ('D', 207789), ('C', 60705)]"
      ]
     },
     "execution_count": 33,
     "metadata": {},
     "output_type": "execute_result"
    }
   ],
   "source": [
    "# 전체 데이터에서 A,B,C,D 그룹의 비율\n",
    "id_counter = Counter(df['Group'].dropna())\n",
    "list(id_counter.items())"
   ]
  },
  {
   "cell_type": "code",
   "execution_count": 34,
   "metadata": {
    "scrolled": false
   },
   "outputs": [
    {
     "data": {
      "image/png": "[encoded data removed]",
      "text/plain": [
       "<Figure size 432x288 with 1 Axes>"
      ]
     },
     "metadata": {},
     "output_type": "display_data"
    }
   ],
   "source": [
    "color = ['gold' , 'indianred', 'darkgoldenrod', 'lightseagreen', 'mediumseagreen']\n",
    "plt.pie( [ i[1] for i in sorted(list(id_counter.items()) , key= lambda x:x[0]) ], autopct='%1.1f%%',\n",
    "        colors = color, labels= ['Group_A', 'Group_B', 'Group_C', 'Group_D'])\n",
    "\n",
    "centre_circle = plt.Circle((0,0),0.4,color='white', fc='white',linewidth=1.25)\n",
    "fig = plt.gcf()\n",
    "fig.gca().add_artist(centre_circle)\n",
    "plt.title('전체 그룹별 비율')\n",
    "plt.savefig('total_data_graph/total_group.png', dpi=300)"
   ]
  },
  {
   "cell_type": "code",
   "execution_count": null,
   "metadata": {},
   "outputs": [],
   "source": []
  }
 ],
 "metadata": {
  "kernelspec": {
   "display_name": "Python 3",
   "language": "python",
   "name": "python3"
  },
  "language_info": {
   "codemirror_mode": {
    "name": "ipython",
    "version": 3
   },
   "file_extension": ".py",
   "mimetype": "text/x-python",
   "name": "python",
   "nbconvert_exporter": "python",
   "pygments_lexer": "ipython3",
   "version": "3.7.6"
  }
 },
 "nbformat": 4,
 "nbformat_minor": 4
}

{
 "cells": [
  {
   "cell_type": "code",
   "execution_count": 1,
   "metadata": {
    "scrolled": false
   },
   "outputs": [],
   "source": [
    "# import csv\n",
    "import pandas as pd\n",
    "import numpy as np\n",
    "from collections import Counter\n",
    "from itertools import islice\n",
    "import langid\n",
    "import re\n",
    "# from ip2geotools.databases.noncommercial import DbIpCity"
   ]
  },
  {
   "cell_type": "code",
   "execution_count": 2,
   "metadata": {
    "scrolled": true
   },
   "outputs": [
    {
     "name": "stderr",
     "output_type": "stream",
     "text": [
      "C:\\Users\\Playdata\\anaconda3\\lib\\site-packages\\IPython\\core\\interactiveshell.py:3063: DtypeWarning: Columns (18,54,55,56,63,64,65,77,84,85,89,91,93) have mixed types.Specify dtype option on import or set low_memory=False.\n",
      "  interactivity=interactivity, compiler=compiler, result=result)\n"
     ]
    }
   ],
   "source": [
    "# 파싱된 eml 파일을 불러옴\n",
    "input_file_name = 'C:/Users/Playdata/pytest/contest/eml_parse.csv'\n",
    "eml = pd.read_csv(input_file_name, encoding= 'utf8')"
   ]
  },
  {
   "cell_type": "code",
   "execution_count": 3,
   "metadata": {},
   "outputs": [
    {
     "data": {
      "text/html": [
       "<div>\n",
       "<style scoped>\n",
       "    .dataframe tbody tr th:only-of-type {\n",
       "        vertical-align: middle;\n",
       "    }\n",
       "\n",
       "    .dataframe tbody tr th {\n",
       "        vertical-align: top;\n",
       "    }\n",
       "\n",
       "    .dataframe thead th {\n",
       "        text-align: right;\n",
       "    }\n",
       "</style>\n",
       "<table border=\"1\" class=\"dataframe\">\n",
       "  <thead>\n",
       "    <tr style=\"text-align: right;\">\n",
       "      <th></th>\n",
       "      <th>file_name</th>\n",
       "      <th>MAIL_FROM</th>\n",
       "      <th>ORG_RCPT_TO</th>\n",
       "      <th>RCPT_TO</th>\n",
       "      <th>X-SPAM-TYPE</th>\n",
       "      <th>X-HELO</th>\n",
       "      <th>X-RECEIVED-IP</th>\n",
       "      <th>Received</th>\n",
       "      <th>X-MAIL-FROM</th>\n",
       "      <th>Message-ID</th>\n",
       "      <th>...</th>\n",
       "      <th>X-EN-SP-DIR</th>\n",
       "      <th>X-EN-SP-SQ</th>\n",
       "      <th>X-Accounttype</th>\n",
       "      <th>Mime-version</th>\n",
       "      <th>content-transfer-encoding</th>\n",
       "      <th>X-MS-TNEF-Correlator</th>\n",
       "      <th>text_without_tag</th>\n",
       "      <th>text_with_tag</th>\n",
       "      <th>include_url</th>\n",
       "      <th>num_of_imgs</th>\n",
       "    </tr>\n",
       "  </thead>\n",
       "  <tbody>\n",
       "    <tr>\n",
       "      <th>0</th>\n",
       "      <td>059faa80-e6d3-47ff-8a45-edf0fba4e398.eml</td>\n",
       "      <td>juyoung@gmail.com</td>\n",
       "      <td>yunhan11@windows4unix.net</td>\n",
       "      <td>yunhan11@windows4unix.net</td>\n",
       "      <td>SPAM</td>\n",
       "      <td>helo 73.132.221.32</td>\n",
       "      <td>221.228.237.146</td>\n",
       "      <td>from [102.48.236.154] by 73.132.221.32 id &lt;954...</td>\n",
       "      <td>juyoung@gmail.com</td>\n",
       "      <td>&lt;l-$9342-$wxg3r73@1klb14lt57y&gt;</td>\n",
       "      <td>...</td>\n",
       "      <td>NaN</td>\n",
       "      <td>NaN</td>\n",
       "      <td>NaN</td>\n",
       "      <td>NaN</td>\n",
       "      <td>NaN</td>\n",
       "      <td>NaN</td>\n",
       "      <td>Content-Type: text/html;\\nContent-Transfer-Enc...</td>\n",
       "      <td>Content-Type: text/html;\\nContent-Transfer-Enc...</td>\n",
       "      <td>0</td>\n",
       "      <td>0</td>\n",
       "    </tr>\n",
       "    <tr>\n",
       "      <th>1</th>\n",
       "      <td>059fd5ff-a546-4924-a6e9-a14f3bba805d.eml</td>\n",
       "      <td>suminy@outlook.kr</td>\n",
       "      <td>lgeman@dcmark.co.kr</td>\n",
       "      <td>lgeman@dcmark.co.kr</td>\n",
       "      <td>SPAM</td>\n",
       "      <td>helo 73.132.221.32</td>\n",
       "      <td>218.201.185.157</td>\n",
       "      <td>from [167.139.250.4] by 73.132.221.32 with ESM...</td>\n",
       "      <td>suminy@outlook.kr</td>\n",
       "      <td>&lt;91yo0559041-z67@u8or7&gt;</td>\n",
       "      <td>...</td>\n",
       "      <td>NaN</td>\n",
       "      <td>NaN</td>\n",
       "      <td>NaN</td>\n",
       "      <td>NaN</td>\n",
       "      <td>NaN</td>\n",
       "      <td>NaN</td>\n",
       "      <td>Content-Type: text/html;\\nContent-Transfer-Enc...</td>\n",
       "      <td>Content-Type: text/html;\\nContent-Transfer-Enc...</td>\n",
       "      <td>0</td>\n",
       "      <td>0</td>\n",
       "    </tr>\n",
       "    <tr>\n",
       "      <th>2</th>\n",
       "      <td>059fd98b-68f8-4722-8870-9671abfda544.eml</td>\n",
       "      <td>jisun@nate.com</td>\n",
       "      <td>jongchoo@meti.co.kr</td>\n",
       "      <td>jongchoo@meti.co.kr</td>\n",
       "      <td>SPAM</td>\n",
       "      <td>helo 73.132.221.32</td>\n",
       "      <td>180.167.196.58</td>\n",
       "      <td>from [211.204.37.3] by 73.132.221.32 with ESMT...</td>\n",
       "      <td>jisun@nate.com</td>\n",
       "      <td>&lt;6$146$hq5oa018-kuc207kv@j3s.4.k.dgc&gt;</td>\n",
       "      <td>...</td>\n",
       "      <td>NaN</td>\n",
       "      <td>NaN</td>\n",
       "      <td>NaN</td>\n",
       "      <td>NaN</td>\n",
       "      <td>NaN</td>\n",
       "      <td>NaN</td>\n",
       "      <td>Content-Type: text/html;\\nContent-Transfer-Enc...</td>\n",
       "      <td>Content-Type: text/html;\\nContent-Transfer-Enc...</td>\n",
       "      <td>0</td>\n",
       "      <td>0</td>\n",
       "    </tr>\n",
       "    <tr>\n",
       "      <th>3</th>\n",
       "      <td>059ffd38-f893-46ff-b65d-2f70da33dd90.eml</td>\n",
       "      <td>yenjuy@outlook.kr</td>\n",
       "      <td>tmdemhoy@dcmark.co.kr</td>\n",
       "      <td>tmdemhoy@dcmark.co.kr</td>\n",
       "      <td>SPAM</td>\n",
       "      <td>helo 73.132.221.32</td>\n",
       "      <td>122.97.133.171</td>\n",
       "      <td>from [208.206.157.152] by 73.132.221.32 with E...</td>\n",
       "      <td>yenjuy@outlook.kr</td>\n",
       "      <td>&lt;f895$8$vvp51c869a5-$x9-s4@zqf.pb7w&gt;</td>\n",
       "      <td>...</td>\n",
       "      <td>NaN</td>\n",
       "      <td>NaN</td>\n",
       "      <td>NaN</td>\n",
       "      <td>NaN</td>\n",
       "      <td>NaN</td>\n",
       "      <td>NaN</td>\n",
       "      <td>Content-Type: text/html;\\nContent-Transfer-Enc...</td>\n",
       "      <td>Content-Type: text/html;\\nContent-Transfer-Enc...</td>\n",
       "      <td>0</td>\n",
       "      <td>0</td>\n",
       "    </tr>\n",
       "    <tr>\n",
       "      <th>4</th>\n",
       "      <td>059ffe9c-b1a7-4b57-8174-8b0afe03366e.eml</td>\n",
       "      <td>noah@ajne.com</td>\n",
       "      <td>icon7447@skysilver.net</td>\n",
       "      <td>icon7447@skysilver.net</td>\n",
       "      <td>SPAM</td>\n",
       "      <td>ehlo ajne.com</td>\n",
       "      <td>42.248.200.68</td>\n",
       "      <td>from localhost ([127.0.0.1]) by localhost via ...</td>\n",
       "      <td>noah@ajne.com</td>\n",
       "      <td>&lt;908A126CDA88BEF0D5EFDCB52CB5F03DCC16D3E1@YGLI...</td>\n",
       "      <td>...</td>\n",
       "      <td>NaN</td>\n",
       "      <td>NaN</td>\n",
       "      <td>NaN</td>\n",
       "      <td>NaN</td>\n",
       "      <td>NaN</td>\n",
       "      <td>NaN</td>\n",
       "      <td>This message contained an attachment that was ...</td>\n",
       "      <td>This message contained an attachment that was ...</td>\n",
       "      <td>0</td>\n",
       "      <td>0</td>\n",
       "    </tr>\n",
       "  </tbody>\n",
       "</table>\n",
       "<p>5 rows × 99 columns</p>\n",
       "</div>"
      ],
      "text/plain": [
       "                                  file_name          MAIL_FROM  \\\n",
       "0  059faa80-e6d3-47ff-8a45-edf0fba4e398.eml  juyoung@gmail.com   \n",
       "1  059fd5ff-a546-4924-a6e9-a14f3bba805d.eml  suminy@outlook.kr   \n",
       "2  059fd98b-68f8-4722-8870-9671abfda544.eml     jisun@nate.com   \n",
       "3  059ffd38-f893-46ff-b65d-2f70da33dd90.eml  yenjuy@outlook.kr   \n",
       "4  059ffe9c-b1a7-4b57-8174-8b0afe03366e.eml      noah@ajne.com   \n",
       "\n",
       "                 ORG_RCPT_TO                    RCPT_TO X-SPAM-TYPE  \\\n",
       "0  yunhan11@windows4unix.net  yunhan11@windows4unix.net        SPAM   \n",
       "1        lgeman@dcmark.co.kr        lgeman@dcmark.co.kr        SPAM   \n",
       "2        jongchoo@meti.co.kr        jongchoo@meti.co.kr        SPAM   \n",
       "3      tmdemhoy@dcmark.co.kr      tmdemhoy@dcmark.co.kr        SPAM   \n",
       "4     icon7447@skysilver.net     icon7447@skysilver.net        SPAM   \n",
       "\n",
       "               X-HELO    X-RECEIVED-IP  \\\n",
       "0  helo 73.132.221.32  221.228.237.146   \n",
       "1  helo 73.132.221.32  218.201.185.157   \n",
       "2  helo 73.132.221.32   180.167.196.58   \n",
       "3  helo 73.132.221.32   122.97.133.171   \n",
       "4       ehlo ajne.com    42.248.200.68   \n",
       "\n",
       "                                            Received        X-MAIL-FROM  \\\n",
       "0  from [102.48.236.154] by 73.132.221.32 id <954...  juyoung@gmail.com   \n",
       "1  from [167.139.250.4] by 73.132.221.32 with ESM...  suminy@outlook.kr   \n",
       "2  from [211.204.37.3] by 73.132.221.32 with ESMT...     jisun@nate.com   \n",
       "3  from [208.206.157.152] by 73.132.221.32 with E...  yenjuy@outlook.kr   \n",
       "4  from localhost ([127.0.0.1]) by localhost via ...      noah@ajne.com   \n",
       "\n",
       "                                          Message-ID  ... X-EN-SP-DIR  \\\n",
       "0                     <l-$9342-$wxg3r73@1klb14lt57y>  ...         NaN   \n",
       "1                            <91yo0559041-z67@u8or7>  ...         NaN   \n",
       "2              <6$146$hq5oa018-kuc207kv@j3s.4.k.dgc>  ...         NaN   \n",
       "3               <f895$8$vvp51c869a5-$x9-s4@zqf.pb7w>  ...         NaN   \n",
       "4  <908A126CDA88BEF0D5EFDCB52CB5F03DCC16D3E1@YGLI...  ...         NaN   \n",
       "\n",
       "  X-EN-SP-SQ X-Accounttype Mime-version content-transfer-encoding  \\\n",
       "0        NaN           NaN          NaN                       NaN   \n",
       "1        NaN           NaN          NaN                       NaN   \n",
       "2        NaN           NaN          NaN                       NaN   \n",
       "3        NaN           NaN          NaN                       NaN   \n",
       "4        NaN           NaN          NaN                       NaN   \n",
       "\n",
       "  X-MS-TNEF-Correlator                                   text_without_tag  \\\n",
       "0                  NaN  Content-Type: text/html;\\nContent-Transfer-Enc...   \n",
       "1                  NaN  Content-Type: text/html;\\nContent-Transfer-Enc...   \n",
       "2                  NaN  Content-Type: text/html;\\nContent-Transfer-Enc...   \n",
       "3                  NaN  Content-Type: text/html;\\nContent-Transfer-Enc...   \n",
       "4                  NaN  This message contained an attachment that was ...   \n",
       "\n",
       "                                       text_with_tag include_url num_of_imgs  \n",
       "0  Content-Type: text/html;\\nContent-Transfer-Enc...           0           0  \n",
       "1  Content-Type: text/html;\\nContent-Transfer-Enc...           0           0  \n",
       "2  Content-Type: text/html;\\nContent-Transfer-Enc...           0           0  \n",
       "3  Content-Type: text/html;\\nContent-Transfer-Enc...           0           0  \n",
       "4  This message contained an attachment that was ...           0           0  \n",
       "\n",
       "[5 rows x 99 columns]"
      ]
     },
     "execution_count": 3,
     "metadata": {},
     "output_type": "execute_result"
    }
   ],
   "source": [
    "eml.head(5)"
   ]
  },
  {
   "cell_type": "code",
   "execution_count": 16,
   "metadata": {},
   "outputs": [],
   "source": [
    "# 불필요한 column들은 제거하고, 필요한 column만 가져와서 새로운 dataframe을 만듦\n",
    "df = eml[['file_name','MAIL_FROM', 'Received', 'Date', 'text_without_tag', 'include_url', 'num_of_imgs']]"
   ]
  },
  {
   "cell_type": "code",
   "execution_count": null,
   "metadata": {},
   "outputs": [],
   "source": [
    "# 'data' column에서 year 정보만 가져옴\n",
    "temp = []\n",
    "for i in df['Date']:\n",
    "    if i is not np.nan:\n",
    "        year = re.findall(r'20\\d\\d', i)\n",
    "        if len(year) >0:\n",
    "            temp.append(year[0])\n",
    "        else:\n",
    "            temp.append(np.nan)\n",
    "    else:\n",
    "        temp.append(np.nan)\n",
    "df['Year'] = pd.Series( temp , index=df.index )"
   ]
  },
  {
   "cell_type": "code",
   "execution_count": 41,
   "metadata": {
    "scrolled": false
   },
   "outputs": [
    {
     "name": "stderr",
     "output_type": "stream",
     "text": [
      "C:\\Users\\Playdata\\anaconda3\\lib\\site-packages\\ipykernel_launcher.py:18: SettingWithCopyWarning: \n",
      "A value is trying to be set on a copy of a slice from a DataFrame.\n",
      "Try using .loc[row_indexer,col_indexer] = value instead\n",
      "\n",
      "See the caveats in the documentation: https://pandas.pydata.org/pandas-docs/stable/user_guide/indexing.html#returning-a-view-versus-a-copy\n"
     ]
    }
   ],
   "source": [
    "# 'data' column에서 month 정보만 가져옴\n",
    "Months = ['Jan', 'Feb', 'Mar', 'Apr', 'May', 'Jun', 'Jul', 'Aug', 'Sep', 'Oct', 'Nov', \"Dec\"]\n",
    "temp = []\n",
    "\n",
    "for i in df['Date']:\n",
    "    is_empty = True\n",
    "    \n",
    "    if i is not np.nan:\n",
    "        for j in Months:\n",
    "            if j in i:\n",
    "                temp.append(j)\n",
    "                is_empty = False\n",
    "                break\n",
    "\n",
    "    if is_empty:\n",
    "        temp.append(np.nan)\n",
    "\n",
    "\n",
    "df['Month'] = pd.Series( temp , index=df.index )"
   ]
  },
  {
   "cell_type": "code",
   "execution_count": 44,
   "metadata": {},
   "outputs": [
    {
     "name": "stderr",
     "output_type": "stream",
     "text": [
      "C:\\Users\\Playdata\\anaconda3\\lib\\site-packages\\ipykernel_launcher.py:18: SettingWithCopyWarning: \n",
      "A value is trying to be set on a copy of a slice from a DataFrame.\n",
      "Try using .loc[row_indexer,col_indexer] = value instead\n",
      "\n",
      "See the caveats in the documentation: https://pandas.pydata.org/pandas-docs/stable/user_guide/indexing.html#returning-a-view-versus-a-copy\n"
     ]
    }
   ],
   "source": [
    "# 'data' column에서 day(요일) 정보만 가져옴\n",
    "Days = ['Mon', 'Tue' , 'Wed' , 'Thu', 'Fri', 'Sat', 'Sun']\n",
    "temp = []\n",
    "\n",
    "for i in df['Date']:\n",
    "    is_empty = True\n",
    "    \n",
    "    if i is not np.nan:\n",
    "        for j in Days:\n",
    "            if j in i:\n",
    "                temp.append(j)\n",
    "                is_empty = False\n",
    "                break\n",
    "\n",
    "    if is_empty:\n",
    "        temp.append(np.nan)\n",
    "\n",
    "\n",
    "df['Day'] = pd.Series( temp , index=df.index )"
   ]
  },
  {
   "cell_type": "code",
   "execution_count": 62,
   "metadata": {
    "scrolled": true
   },
   "outputs": [
    {
     "name": "stderr",
     "output_type": "stream",
     "text": [
      "C:\\Users\\Playdata\\anaconda3\\lib\\site-packages\\ipykernel_launcher.py:12: SettingWithCopyWarning: \n",
      "A value is trying to be set on a copy of a slice from a DataFrame.\n",
      "Try using .loc[row_indexer,col_indexer] = value instead\n",
      "\n",
      "See the caveats in the documentation: https://pandas.pydata.org/pandas-docs/stable/user_guide/indexing.html#returning-a-view-versus-a-copy\n",
      "  if sys.path[0] == '':\n"
     ]
    }
   ],
   "source": [
    "# 'data' column에서 Time(시간) 정보만 가져옴\n",
    "temp = []\n",
    "for i in df['Date']:\n",
    "    is_empty = True\n",
    "    if i is not np.nan:\n",
    "        p = i.find(':')\n",
    "        if i[p-2:p].isdigit():\n",
    "            temp.append(i[p-2:p])\n",
    "            is_empty= False\n",
    "    if is_empty:\n",
    "        temp.append(np.nan )\n",
    "        \n",
    "df['Time'] = pd.Series( temp , index=df.index )"
   ]
  },
  {
   "cell_type": "code",
   "execution_count": 64,
   "metadata": {},
   "outputs": [
    {
     "name": "stderr",
     "output_type": "stream",
     "text": [
      "C:\\Users\\Playdata\\anaconda3\\lib\\site-packages\\ipykernel_launcher.py:9: SettingWithCopyWarning: \n",
      "A value is trying to be set on a copy of a slice from a DataFrame.\n",
      "Try using .loc[row_indexer,col_indexer] = value instead\n",
      "\n",
      "See the caveats in the documentation: https://pandas.pydata.org/pandas-docs/stable/user_guide/indexing.html#returning-a-view-versus-a-copy\n",
      "  if __name__ == '__main__':\n"
     ]
    }
   ],
   "source": [
    "# 'text_without_tag'(본문) column에서 본문 길이 정보 가져옴\n",
    "\n",
    "temp = []\n",
    "\n",
    "for i in df['text_without_tag']:\n",
    "    if i is not np.nan:\n",
    "        temp.append(len(i))\n",
    "    else:\n",
    "        temp.append(np.nan )\n",
    "        \n",
    "df['length_of_text'] = pd.Series( temp , index=df.index )"
   ]
  },
  {
   "cell_type": "code",
   "execution_count": 72,
   "metadata": {
    "scrolled": true
   },
   "outputs": [
    {
     "name": "stderr",
     "output_type": "stream",
     "text": [
      "C:\\Users\\Playdata\\anaconda3\\lib\\site-packages\\ipykernel_launcher.py:10: SettingWithCopyWarning: \n",
      "A value is trying to be set on a copy of a slice from a DataFrame.\n",
      "Try using .loc[row_indexer,col_indexer] = value instead\n",
      "\n",
      "See the caveats in the documentation: https://pandas.pydata.org/pandas-docs/stable/user_guide/indexing.html#returning-a-view-versus-a-copy\n",
      "  # Remove the CWD from sys.path while we load stuff.\n"
     ]
    }
   ],
   "source": [
    "# 'text_without_tag'(본문) column에서 작성 언어 정보 가져옴\n",
    "temp = []\n",
    "\n",
    "for i in df['text_without_tag']:\n",
    "    if i is not np.nan:\n",
    "        a = langid.classify(i)[0]\n",
    "        temp.append(a)\n",
    "    else:\n",
    "        temp.append(np.nan)\n",
    "\n",
    "df['main_language'] = pd.Series( temp , index=df.index )"
   ]
  },
  {
   "cell_type": "code",
   "execution_count": 75,
   "metadata": {},
   "outputs": [],
   "source": [
    "# 'MAIL_FROM'(발신 아이디) column에서 발신 빈도에 따라 그룹을 나눔.\n",
    "# 그룹 A : 만번 이상 발신 아이디 , 그룹 B : 천~만번 발신 아이디\n",
    "# 그룹 C : 백~천번 발신 아이디.  그룹 D : 백번 이하 발신 아이디\n",
    "counter = Counter(df['MAIL_FROM'])\n",
    "sorted_id_freq = sorted([i for i in counter.values()]) "
   ]
  },
  {
   "cell_type": "code",
   "execution_count": 84,
   "metadata": {},
   "outputs": [],
   "source": [
    "# 발신자 아이디별로 그룹을 나누어 줌\n",
    "A_list = [ i[0] for i in counter.items() if i[1] >= 10000 ]\n",
    "B_list = [ i[0] for i in counter.items() if i[1] < 10000 and i[1] >= 1000 ]\n",
    "C_list = [ i[0] for i in counter.items() if i[1] < 1000 and i[1] >= 100 ]\n",
    "A_list.remove(np.nan)\n",
    "# D_list = [ i[0] for i in counter.items if i[1] < quart1 ]"
   ]
  },
  {
   "cell_type": "code",
   "execution_count": 90,
   "metadata": {
    "scrolled": true
   },
   "outputs": [
    {
     "name": "stderr",
     "output_type": "stream",
     "text": [
      "C:\\Users\\Playdata\\anaconda3\\lib\\site-packages\\ipykernel_launcher.py:16: SettingWithCopyWarning: \n",
      "A value is trying to be set on a copy of a slice from a DataFrame.\n",
      "Try using .loc[row_indexer,col_indexer] = value instead\n",
      "\n",
      "See the caveats in the documentation: https://pandas.pydata.org/pandas-docs/stable/user_guide/indexing.html#returning-a-view-versus-a-copy\n",
      "  app.launch_new_instance()\n"
     ]
    }
   ],
   "source": [
    "# 발신자의 해당 그룹에 맞는 그룹 정보를 부여함\n",
    "temp = []\n",
    "\n",
    "for i in df['MAIL_FROM']:\n",
    "    if i is np.nan:\n",
    "        temp.append(np.nan)\n",
    "        continue\n",
    "    if i in A_list:\n",
    "        temp.append('A')\n",
    "    elif i in B_list:\n",
    "        temp.append('B')\n",
    "    elif i in C_list:\n",
    "        temp.append('C')\n",
    "    else:\n",
    "        temp.append('D')\n",
    "\n",
    "df['Group'] = pd.Series( temp , index=df.index )"
   ]
  },
  {
   "cell_type": "code",
   "execution_count": 102,
   "metadata": {},
   "outputs": [
    {
     "name": "stderr",
     "output_type": "stream",
     "text": [
      "C:\\Users\\Playdata\\anaconda3\\lib\\site-packages\\ipykernel_launcher.py:16: SettingWithCopyWarning: \n",
      "A value is trying to be set on a copy of a slice from a DataFrame.\n",
      "Try using .loc[row_indexer,col_indexer] = value instead\n",
      "\n",
      "See the caveats in the documentation: https://pandas.pydata.org/pandas-docs/stable/user_guide/indexing.html#returning-a-view-versus-a-copy\n",
      "  app.launch_new_instance()\n"
     ]
    }
   ],
   "source": [
    "# 'Received' column에서 본문 ip 정보 가져옴\n",
    "temp = []\n",
    "\n",
    "for i in df['Received']:\n",
    "    is_empty = True\n",
    "    \n",
    "    if i is not np.nan:\n",
    "        ip = re.findall(r'([0-9]{1,3})\\.([0-9]{1,3})\\.([0-9]{1,3})\\.([0-9]{1,3})', i)\n",
    "        if len(ip) >0:\n",
    "            com_ip = ip[0][0]+'.'+ip[0][1]+'.'+ip[0][2]+'.'+ip[0][3]\n",
    "            temp.append(com_ip)\n",
    "            is_empty = False\n",
    "    # Received가 비어있거나, ip가 없을때 NaN처리\n",
    "    if is_empty:\n",
    "        temp.append(np.nan)\n",
    "    \n",
    "df['ip'] = pd.Series( temp , index=df.index )"
   ]
  },
  {
   "cell_type": "code",
   "execution_count": 104,
   "metadata": {},
   "outputs": [],
   "source": [
    "# 새로 형성한 dataframe을 csv 형태로 저장\n",
    "df.to_csv('C:/Users/Playdata/pytest/contest/main_df.csv', sep=',', index = False)"
   ]
  }
 ],
 "metadata": {
  "kernelspec": {
   "display_name": "Python 3",
   "language": "python",
   "name": "python3"
  },
  "language_info": {
   "codemirror_mode": {
    "name": "ipython",
    "version": 3
   },
   "file_extension": ".py",
   "mimetype": "text/x-python",
   "name": "python",
   "nbconvert_exporter": "python",
   "pygments_lexer": "ipython3",
   "version": "3.7.6"
  }
 },
 "nbformat": 4,
 "nbformat_minor": 4
}
